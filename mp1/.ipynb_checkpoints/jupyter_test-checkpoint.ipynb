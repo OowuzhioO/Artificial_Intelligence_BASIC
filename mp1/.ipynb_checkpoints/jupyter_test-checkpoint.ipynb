{
 "cells": [
  {
   "cell_type": "code",
   "execution_count": 1,
   "metadata": {},
   "outputs": [
    {
     "name": "stdout",
     "output_type": "stream",
     "text": [
      "3\n"
     ]
    }
   ],
   "source": [
    "class BasicGraph(object):\n",
    "    def __init__(self, filename):\n",
    "        self.filename = filename\n",
    "    def readGraphFromFile(self):\n",
    "        # print(self.filename)\n",
    "        # print(type(self.filename))\n",
    "        with open(self.filename) as f:\n",
    "            lines = f.readlines()\n",
    "\n",
    "        graph = []\n",
    "        for line in lines:\n",
    "            for element in line:\n",
    "                row = []\n",
    "                row.append(element)\n",
    "            # print(line)\n",
    "            graph.append(row)\n",
    "        print(graph)"
   ]
  },
  {
   "cell_type": "code",
   "execution_count": null,
   "metadata": {},
   "outputs": [],
   "source": [
    "b = BasicGraph(\"mediumMaze.txt\")\n",
    "b.readGraphFromFile()"
   ]
  }
 ],
 "metadata": {
  "kernelspec": {
   "display_name": "Python 3",
   "language": "python",
   "name": "python3"
  },
  "language_info": {
   "codemirror_mode": {
    "name": "ipython",
    "version": 3
   },
   "file_extension": ".py",
   "mimetype": "text/x-python",
   "name": "python",
   "nbconvert_exporter": "python",
   "pygments_lexer": "ipython3",
   "version": "3.6.3"
  }
 },
 "nbformat": 4,
 "nbformat_minor": 2
}
